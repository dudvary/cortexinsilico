{
 "cells": [
  {
   "cell_type": "code",
   "execution_count": 1,
   "metadata": {},
   "outputs": [],
   "source": [
    "import sys\n",
    "import subprocess"
   ]
  },
  {
   "cell_type": "markdown",
   "metadata": {},
   "source": [
    "Vorbereitung:\n",
    "* Amira starten, leeres Projekt öffnen. Unter 'Window' das Fenster 'Consoles' öffnen. In der Tcl-Console den Server starten mit dem Befehl '**app listen**'. Eine Portnummer wird angezeigt.\n",
    "* Die Anzeige sollte etwa so aussehen: *AmiraZIBEdition listening at port 7175*\n",
    "* Zum eigenlichen Senden der tcl-Kommandos an Amira verwende ich das Tool tclsh. Hier ist der Download-Link:\n",
    "https://www.activestate.com/activetcl/downloads"
   ]
  },
  {
   "cell_type": "code",
   "execution_count": 2,
   "metadata": {},
   "outputs": [],
   "source": [
    "host = 'localhost'\n",
    "port = 7175\n",
    "tmpFilePath = \"C:\\\\Users\\\\philipp\\\\Desktop\\\\tcl\\\\tclscript\"\n",
    "tclshPath = \".\""
   ]
  },
  {
   "cell_type": "markdown",
   "metadata": {},
   "source": [
    "Pfade für die SpatialGraph-Datei und die Bild-Datei:"
   ]
  },
  {
   "cell_type": "code",
   "execution_count": 3,
   "metadata": {},
   "outputs": [],
   "source": [
    "spatialGraphFilename = \"merged_zsclae_0_zsmooth_9_labels_assigned.am\"\n",
    "spatialGraphPath = \"C:/Users/philipp/Desktop/tcl/merged_zsclae_0_zsmooth_9_labels_assigned.am\"\n",
    "imageFile = \"C:/Users/philipp/Desktop/tcl/screenshot.png\""
   ]
  },
  {
   "cell_type": "code",
   "execution_count": 4,
   "metadata": {},
   "outputs": [],
   "source": [
    "f = open(tmpFilePath, \"w\")\n",
    "f.write(\"set server {0}\\n\".format(host))\n",
    "f.write(\"set sockChan [socket $server {0}]\\n\".format(port))\n",
    "f.write(\"puts $sockChan \\\"load {0}\\\"\\n\".format(spatialGraphPath))\n",
    "f.write(\"puts $sockChan \\\"create HxSpatialGraphView graphView\\\"\\n\")\n",
    "f.write(\"puts $sockChan \\\"graphView data connect {0}\\\"\\n\".format(spatialGraphFilename))\n",
    "f.write(\"puts $sockChan \\\"graphView compute\\\"\\n\") \n",
    "f.write(\"puts $sockChan \\\"create HxSnapshotModule graphSnapshot\\\"\\n\")\n",
    "f.write(\"puts $sockChan \\\"graphSnapshot input connect graphView\\\"\\n\")\n",
    "f.write(\"puts $sockChan \\\"graphSnapshot snapPath setFilename {0}\\\"\\n\".format(imageFile))\n",
    "f.write(\"puts $sockChan \\\"graphSnapshot action snap\\\"\\n\")\n",
    "f.write(\"puts $sockChan \\\"graphSnapshot compute\\\"\\n\")\n",
    "f.write(\"puts $sockChan \\\"remove {0}\\\"\\n\".format(spatialGraphFilename)) # remove this line to keep loaded objects in Amira\n",
    "f.write(\"flush $sockChan\")\n",
    "f.close()"
   ]
  },
  {
   "cell_type": "code",
   "execution_count": 5,
   "metadata": {},
   "outputs": [
    {
     "data": {
      "text/plain": [
       "CompletedProcess(args=['tclsh', 'C:\\\\Users\\\\philipp\\\\Desktop\\\\tcl\\\\tclscript'], returncode=0)"
      ]
     },
     "execution_count": 5,
     "metadata": {},
     "output_type": "execute_result"
    }
   ],
   "source": [
    "subprocess.run([\"tclsh\", tmpFilePath], cwd=tclshPath)"
   ]
  },
  {
   "cell_type": "markdown",
   "metadata": {},
   "source": [
    "Um die Aufnahmeparameter der Screenshots weiter anzupassen, kannst Du Dir alle Tcl-Befehle anzeigen lassen, die von Amira-Objects unterstützt werden. Hierzu das Object, z.B. das Snapshot-Object, links in der View anwählen. Dann in der Tcl-Console Tab und anschließend Enter drücken."
   ]
  },
  {
   "cell_type": "code",
   "execution_count": null,
   "metadata": {},
   "outputs": [],
   "source": []
  }
 ],
 "metadata": {
  "kernelspec": {
   "display_name": "Python 3",
   "language": "python",
   "name": "python3"
  },
  "language_info": {
   "codemirror_mode": {
    "name": "ipython",
    "version": 3
   },
   "file_extension": ".py",
   "mimetype": "text/x-python",
   "name": "python",
   "nbconvert_exporter": "python",
   "pygments_lexer": "ipython3",
   "version": "3.6.5"
  }
 },
 "nbformat": 4,
 "nbformat_minor": 2
}
